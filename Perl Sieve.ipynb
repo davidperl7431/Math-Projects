{
 "cells": [
  {
   "cell_type": "markdown",
   "id": "5ab56858",
   "metadata": {},
   "source": [
    "The Sieve of Eratosthenes inspired this short project. To find the prime numbers up to some arbitrary integer $n$, this sieve simply requires one to eliminate multiples of all integers in the closed interval $[2,n]$. It is easy to see that is sufficient to stop at $\\sqrt{n}$. For example, to find the set of prime numbers up to $100$, we can eliminate all composite numbers in $[2,100]$, all of which are multiples of at least one prime $p \\leq \\sqrt{n}$, which is the set $\\{2,3,5,7\\}$. This made me interested in the question: which composite numbers \"survive\" until the last step of the sieve? In this example, the sieve ends upon crossing off multiples of $7$. What would happen if we instead treated $\\{2,3,5\\}$ as the set of primes less than $\\sqrt{n}$. Which composite numbers would we find?\n",
    "\n",
    "Let's use $p$ to refer to the greatest prime number less than or equal to $n$. I am interested in finding which compositive integers have $p$ as its smallest prime divisor. Note that $m=p^2$ will always be a solution to this sieve. So, we ignore those cases and search for candidate $m$'s that have a squarefree factorization. Let $m = p_1 \\cdots p_k$ be the prime factorization of $m$, where $p_i < p_j$ for $i < j$ and $k \\geq 2$. Since $p_1$ is the greatest prime $p \\leq \\sqrt{n}$ we know that $p_2 > \\sqrt{n}$ and $p_3 > \\sqrt{n}$. Hence $p_2 \\cdot p_3 > n$, which means $k=2$. This tells us that we are searching only for semiprime numbers $m=pq$.\n",
    "\n",
    "We can now reduce the problem to searching for semiprime numbers $m=pq \\leq n$ for distinct primes $p,q$ with $p \\leq \\sqrt{n}$ and $q > \\sqrt{n}$. In other words, how many primes $q$ exist in the interval $\\big(\\sqrt{n}, \\frac{n}{p}\\big]$? Creech (2023) expanded on foundational work from Noel & Panos (2005), which shows that this count is exactly $\\pi\\big({\\frac{n}{p}}\\big) - i$, where $p$ is the $i^{th}$ prime and $\\pi$ is the prime counting function.\n",
    "\n",
    "To continue the above example, choose $n=100$. Then $p=7$ is the greatest prime number less than or equal to $\\sqrt{100}=10$. Above, we deduced that we can find solutions to the sieve by searching for primes $q$ where $7 < q \\leq \\frac{100}{7} \\approx 14.3$. Trivially, $q=11$ and $q=13$ are primes satisfying this inequality. This gives the two solutions $m=7\\cdot11=77$ and $m=7\\cdot13=91$ for $n=100$."
   ]
  },
  {
   "cell_type": "code",
   "execution_count": 1,
   "id": "1f254482",
   "metadata": {},
   "outputs": [],
   "source": [
    "# import libraries\n",
    "\n",
    "import pandas as pd\n",
    "import numpy as np\n",
    "\n",
    "from math import sqrt as sqrt\n",
    "from math import ceil as ceil\n",
    "from math import floor as floor\n",
    "\n",
    "import matplotlib.pyplot as plt\n",
    "\n",
    "from collections import Counter\n",
    "from bisect import bisect_left\n",
    "from bisect import bisect_right\n",
    "import time\n",
    "import math"
   ]
  },
  {
   "cell_type": "code",
   "execution_count": 2,
   "id": "f5245356",
   "metadata": {},
   "outputs": [],
   "source": [
    "# primality test\n",
    "\n",
    "def is_prime(n: int) -> bool:\n",
    "    # returns a Boolean if n is prime or not\n",
    "    \n",
    "    ### https://en.wikipedia.org/wiki/Primality_test#Python\n",
    "    \"\"\"Primality test using 6k+-1 optimization.\"\"\"\n",
    "    if n <= 3:\n",
    "        return n > 1\n",
    "    if not n%2 or not n%3:\n",
    "        return False\n",
    "    i = 5\n",
    "    stop = int(n**0.5)\n",
    "    while i <= stop:\n",
    "        if not n%i or not n%(i + 2):\n",
    "            return False\n",
    "        i += 6\n",
    "    return True"
   ]
  },
  {
   "cell_type": "code",
   "execution_count": null,
   "id": "f370cd71",
   "metadata": {},
   "outputs": [],
   "source": [
    "def primes_less_than_n(n):\n",
    "    # returns a list of all prime numbers strictly less than n\n",
    "    \n",
    "    if n <= 2:\n",
    "        return []\n",
    "    \n",
    "    is_prime = [True] * n\n",
    "    is_prime[0] = is_prime[1] = False\n",
    "    \n",
    "    for i in range(2, int(n**0.5) + 1):\n",
    "        if is_prime[i]:\n",
    "            for multiple in range(i*i, n, i):\n",
    "                is_prime[multiple] = False\n",
    "    \n",
    "    primes = [i for i in range(n) if is_prime[i]]\n",
    "    return primes"
   ]
  },
  {
   "cell_type": "code",
   "execution_count": 169,
   "id": "62152bf1",
   "metadata": {},
   "outputs": [],
   "source": [
    "# Calculate now so that we don't have to recalculate in a loop later\n",
    "primes = primes_less_than_n(10000000)"
   ]
  },
  {
   "cell_type": "code",
   "execution_count": null,
   "id": "68f561c6",
   "metadata": {},
   "outputs": [],
   "source": [
    "def find_prime_index(n):\n",
    "    # returns 1 for n=2, 2 for n=3, 6 for n=13, etc\n",
    "    \n",
    "    if n <= 1:\n",
    "        return \"Not a prime number\"\n",
    "    \n",
    "    primes = []\n",
    "    num = 2\n",
    "    while True:\n",
    "        is_prime = True\n",
    "        for i in range(2, int(num**0.5) + 1):\n",
    "            if num % i == 0:\n",
    "                is_prime = False\n",
    "                break\n",
    "        if is_prime:\n",
    "            primes.append(num)\n",
    "            if num == n:\n",
    "                return len(primes)\n",
    "        if len(primes) > n:\n",
    "            return \"Not a prime number\"\n",
    "        num += 1"
   ]
  },
  {
   "cell_type": "code",
   "execution_count": 92,
   "id": "8a94c5a8",
   "metadata": {},
   "outputs": [],
   "source": [
    "def pi(x):\n",
    "    # number of primes <= x\n",
    "    \n",
    "    if x<2:\n",
    "        return 0\n",
    "    limit = int(sqrt(x))+1\n",
    "    is_prime = [True]*(x+1)\n",
    "    is_prime[0] = is_prime[1] = False\n",
    "    \n",
    "    for i in range(2, limit):\n",
    "        if is_prime[i]:\n",
    "            for j in range(i*i, x+1, i):\n",
    "                is_prime[j] = False\n",
    "                \n",
    "    return sum(is_prime)"
   ]
  },
  {
   "cell_type": "code",
   "execution_count": 269,
   "id": "c878f7d2",
   "metadata": {},
   "outputs": [],
   "source": [
    "def find_greatest_less_than(sorted_list, target):\n",
    "    # generated via Google generative AI\n",
    "    \n",
    "    \"\"\"\n",
    "    Finds the greatest number less than the target in a sorted list.\n",
    "\n",
    "    Args:\n",
    "        sorted_list: A sorted list of numbers.\n",
    "        target: The number to compare against.\n",
    "\n",
    "    Returns:\n",
    "        The greatest number in the list less than the target, or None if no such number exists.\n",
    "    \"\"\"\n",
    "    low = 0\n",
    "    high = len(sorted_list) - 1\n",
    "    result = None\n",
    "\n",
    "    while low <= high:\n",
    "        mid = (low + high) // 2\n",
    "        if sorted_list[mid] < target:\n",
    "            result = sorted_list[mid]\n",
    "            low = mid + 1\n",
    "        else:\n",
    "            high = mid - 1\n",
    "\n",
    "    return result"
   ]
  },
  {
   "cell_type": "code",
   "execution_count": 305,
   "id": "36a475b2",
   "metadata": {},
   "outputs": [],
   "source": [
    "def perl_sieve(n):\n",
    "    # function that returns a count of the number of solutions to the sieve\n",
    "    # note that the function does not explicitly find the solutions, though\n",
    "    \n",
    "    p_i = find_greatest_less_than(primes, sqrt(n))\n",
    "    i = find_prime_index(p_i)\n",
    "    \n",
    "    # https://arxiv.org/pdf/2310.14989\n",
    "    return pi(floor(n/p_i))-i"
   ]
  },
  {
   "cell_type": "code",
   "execution_count": 291,
   "id": "fa9786bb",
   "metadata": {},
   "outputs": [
    {
     "name": "stdout",
     "output_type": "stream",
     "text": [
      "10.0% done\n",
      "20.0% done\n",
      "30.0% done\n",
      "40.0% done\n",
      "50.0% done\n",
      "60.0% done\n",
      "70.0% done\n",
      "80.0% done\n",
      "90.0% done\n"
     ]
    }
   ],
   "source": [
    "# compute perl_sieve(n) for each n up to max_n\n",
    "\n",
    "num_solutions = []\n",
    "max_n = 1000000\n",
    "for n in range(5, max_n):\n",
    "    num_solutions.append(perl_sieve(n))\n",
    "    if (n/max_n*10) in set(range(10)):\n",
    "        print(f\"{n/max_n*100}% done\")\n",
    "    \n",
    "num_solutions = pd.Series(num_solutions)"
   ]
  },
  {
   "cell_type": "code",
   "execution_count": 292,
   "id": "db57fac1",
   "metadata": {},
   "outputs": [
    {
     "data": {
      "image/png": "[encoded data removed]",
      "text/plain": [
       "<Figure size 432x288 with 1 Axes>"
      ]
     },
     "metadata": {
      "needs_background": "light"
     },
     "output_type": "display_data"
    }
   ],
   "source": [
    "# plot partial sum of perl_sieve(n) for n up to max_n\n",
    "partial_sums = num_solutions.cumsum()\n",
    "partial_sums.plot();"
   ]
  },
  {
   "cell_type": "code",
   "execution_count": 293,
   "id": "b2e90951",
   "metadata": {},
   "outputs": [
    {
     "data": {
      "image/png": "[encoded data removed]",
      "text/plain": [
       "<Figure size 432x288 with 1 Axes>"
      ]
     },
     "metadata": {
      "needs_background": "light"
     },
     "output_type": "display_data"
    }
   ],
   "source": [
    "# plot running average\n",
    "ratios = partial_sums/list(range(5,max_n))\n",
    "ratios.plot();"
   ]
  },
  {
   "cell_type": "code",
   "execution_count": null,
   "id": "22baf61b",
   "metadata": {},
   "outputs": [],
   "source": []
  }
 ],
 "metadata": {
  "kernelspec": {
   "display_name": "Python 3",
   "language": "python",
   "name": "python3"
  },
  "language_info": {
   "codemirror_mode": {
    "name": "ipython",
    "version": 3
   },
   "file_extension": ".py",
   "mimetype": "text/x-python",
   "name": "python",
   "nbconvert_exporter": "python",
   "pygments_lexer": "ipython3",
   "version": "3.8.8"
  }
 },
 "nbformat": 4,
 "nbformat_minor": 5
}
